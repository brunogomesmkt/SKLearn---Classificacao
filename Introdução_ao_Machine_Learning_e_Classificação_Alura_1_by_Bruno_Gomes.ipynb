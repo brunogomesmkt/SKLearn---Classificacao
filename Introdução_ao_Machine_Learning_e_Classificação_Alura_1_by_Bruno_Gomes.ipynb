{
  "nbformat": 4,
  "nbformat_minor": 0,
  "metadata": {
    "colab": {
      "name": "Introdução ao Machine Learning e Classificação-Alura-1 by Bruno Gomes.ipynb",
      "provenance": [],
      "authorship_tag": "ABX9TyNcInlDkS5T379q6KkPz8tB",
      "include_colab_link": true
    },
    "kernelspec": {
      "name": "python3",
      "display_name": "Python 3"
    },
    "language_info": {
      "name": "python"
    }
  },
  "cells": [
    {
      "cell_type": "markdown",
      "metadata": {
        "id": "view-in-github",
        "colab_type": "text"
      },
      "source": [
        "<a href=\"https://colab.research.google.com/github/brunogomesmkt/SKLearn---Classificacao/blob/main/Introdu%C3%A7%C3%A3o_ao_Machine_Learning_e_Classifica%C3%A7%C3%A3o_Alura_1_by_Bruno_Gomes.ipynb\" target=\"_parent\"><img src=\"https://colab.research.google.com/assets/colab-badge.svg\" alt=\"Open In Colab\"/></a>"
      ]
    },
    {
      "cell_type": "markdown",
      "metadata": {
        "id": "kNWoMkD74bz7"
      },
      "source": [
        "**CLASSIFICAÇÃO DE ANIMAIS**"
      ]
    },
    {
      "cell_type": "markdown",
      "metadata": {
        "id": "AkI_e-1WwFD0"
      },
      "source": [
        "#Features (1 sim, 0 não)\n",
        "#Pelo longo?\n",
        "#Perna curta?\n",
        "#Faz au au?\n"
      ]
    },
    {
      "cell_type": "code",
      "metadata": {
        "id": "VtlgwOhclKW_"
      },
      "source": [
        "porco1 = [0, 1, 0]\n",
        "porco2 = [0, 1, 1]\n",
        "porco3 = [1, 1, 0]\n",
        "\n",
        "cachorro1 = [0, 1, 1]\n",
        "cachorro2 = [1, 0, 1]\n",
        "cachorro3 = [1, 1, 1]\n",
        "\n",
        "#1 => porco, 0 => cachorro\n",
        "treino_x = [porco1, porco2, porco3, cachorro1, cachorro2, cachorro3]\n",
        "treino_y = [1,1,1,0,0,0] #labels / etiquetas"
      ],
      "execution_count": 1,
      "outputs": []
    },
    {
      "cell_type": "markdown",
      "metadata": {
        "id": "nVbog5uGxz9S"
      },
      "source": [
        "**ESTIMADOR**"
      ]
    },
    {
      "cell_type": "code",
      "metadata": {
        "colab": {
          "base_uri": "https://localhost:8080/"
        },
        "id": "IM7FBCU_x3PL",
        "outputId": "9e5cc9a2-c4ec-4511-fc49-e8b140c1a1de"
      },
      "source": [
        "from sklearn.svm import  LinearSVC\n",
        "\n",
        "model = LinearSVC()\n",
        "model.fit(treino_x, treino_y)"
      ],
      "execution_count": 2,
      "outputs": [
        {
          "output_type": "execute_result",
          "data": {
            "text/plain": [
              "LinearSVC(C=1.0, class_weight=None, dual=True, fit_intercept=True,\n",
              "          intercept_scaling=1, loss='squared_hinge', max_iter=1000,\n",
              "          multi_class='ovr', penalty='l2', random_state=None, tol=0.0001,\n",
              "          verbose=0)"
            ]
          },
          "metadata": {},
          "execution_count": 2
        }
      ]
    },
    {
      "cell_type": "code",
      "metadata": {
        "colab": {
          "base_uri": "https://localhost:8080/"
        },
        "id": "M4LelgaNyRHf",
        "outputId": "c4455f32-483e-437a-8ff4-8ff8df15ca84"
      },
      "source": [
        "animal_misterioso = [1,1,1]\n",
        "model.predict([animal_misterioso])"
      ],
      "execution_count": 3,
      "outputs": [
        {
          "output_type": "execute_result",
          "data": {
            "text/plain": [
              "array([0])"
            ]
          },
          "metadata": {},
          "execution_count": 3
        }
      ]
    },
    {
      "cell_type": "code",
      "metadata": {
        "id": "42SseM4xya1A"
      },
      "source": [
        "misterio1 = [1,1,1]\n",
        "misterio2 = [1,1,0]\n",
        "misterio3 = [0,1,1]"
      ],
      "execution_count": 4,
      "outputs": []
    },
    {
      "cell_type": "markdown",
      "metadata": {
        "id": "uxyBSMoezygH"
      },
      "source": [
        "**TAXA DE ACERTO DO MODELO**"
      ]
    },
    {
      "cell_type": "code",
      "metadata": {
        "id": "8QVuWXpO3jlz"
      },
      "source": [
        "teste_x= [misterio1, misterio2, misterio3]\n",
        "teste_y = [0, 1, 1]"
      ],
      "execution_count": 5,
      "outputs": []
    },
    {
      "cell_type": "code",
      "metadata": {
        "id": "RD3DwSfdzWlP"
      },
      "source": [
        "previsoes = model.predict(teste_x)"
      ],
      "execution_count": 6,
      "outputs": []
    },
    {
      "cell_type": "code",
      "metadata": {
        "colab": {
          "base_uri": "https://localhost:8080/"
        },
        "id": "JmKh_98H0Lku",
        "outputId": "9eab8fd3-c4f4-400d-a972-7089aeb4e129"
      },
      "source": [
        "corretos = (previsoes == teste_y).sum()\n",
        "total = len(teste_x)\n",
        "taxa_de_acerto = corretos/total\n",
        "print('Taxa de acerto: %.2f' % (taxa_de_acerto * 100))"
      ],
      "execution_count": 7,
      "outputs": [
        {
          "output_type": "stream",
          "text": [
            "Taxa de acerto: 66.67\n"
          ],
          "name": "stdout"
        }
      ]
    },
    {
      "cell_type": "markdown",
      "metadata": {
        "id": "RvQFzyJk4I1z"
      },
      "source": [
        "**VERIFICAÇÃO DA ACURÁCIA (Taxa de acerto do algoritmo)**"
      ]
    },
    {
      "cell_type": "code",
      "metadata": {
        "colab": {
          "base_uri": "https://localhost:8080/"
        },
        "id": "8C5SUWq80Lj3",
        "outputId": "c4d48cbe-b396-4070-f24c-9f0dc6fcb365"
      },
      "source": [
        "from sklearn.metrics import accuracy_score\n",
        "\n",
        "taxa_de_acerto = accuracy_score(teste_y, previsoes)\n",
        "print('Taxa de acerto: %.2f' % (taxa_de_acerto * 100))"
      ],
      "execution_count": 8,
      "outputs": [
        {
          "output_type": "stream",
          "text": [
            "Taxa de acerto: 66.67\n"
          ],
          "name": "stdout"
        }
      ]
    }
  ]
}